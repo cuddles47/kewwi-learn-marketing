{
 "cells": [
  {
   "cell_type": "code",
   "execution_count": 45,
   "metadata": {},
   "outputs": [],
   "source": [
    "import pandas as pd\n",
    "from tabulate import tabulate"
   ]
  },
  {
   "cell_type": "code",
   "execution_count": 46,
   "metadata": {},
   "outputs": [],
   "source": [
    "filename = 'Keyword.csv'"
   ]
  },
  {
   "cell_type": "code",
   "execution_count": 47,
   "metadata": {},
   "outputs": [],
   "source": [
    "df = pd.read_csv(filename, encoding=\"utf-16\",delimiter='\\t')"
   ]
  },
  {
   "cell_type": "code",
   "execution_count": 48,
   "metadata": {},
   "outputs": [
    {
     "name": "stdout",
     "output_type": "stream",
     "text": [
      "                         Keyword Currency  Avg. monthly searches  \\\n",
      "0                    túi xách nữ      VND                  50000   \n",
      "1          túi xách nữ hàng hiệu      VND                   5000   \n",
      "2                túi xách nữ đẹp      VND                   5000   \n",
      "3  túi xách nữ hàng hiệu cao cấp      VND                    500   \n",
      "4            túi xách nữ cao cấp      VND                   5000   \n",
      "\n",
      "  Thay đổi trong ba tháng Thay đổi so với cùng kỳ năm trước Competition  \\\n",
      "0                      0%                                0%         Cao   \n",
      "1                      0%                                0%  Trung bình   \n",
      "2                      0%                                0%         Cao   \n",
      "3                      0%                              -90%         Cao   \n",
      "4                    -90%                              -90%         Cao   \n",
      "\n",
      "   Competition (indexed value)  Top of page bid (low range)  \\\n",
      "0                        100.0                       1273.0   \n",
      "1                         60.0                       1260.0   \n",
      "2                        100.0                       1113.0   \n",
      "3                        100.0                       1018.0   \n",
      "4                        100.0                       1326.0   \n",
      "\n",
      "   Top of page bid (high range)  Ad impression share  ...  Searches: Feb 2024  \\\n",
      "0                        6615.0                  NaN  ...                 NaN   \n",
      "1                        5805.0                  NaN  ...                 NaN   \n",
      "2                        4972.0                  NaN  ...                 NaN   \n",
      "3                        5086.0                  NaN  ...                 NaN   \n",
      "4                        6737.0                  NaN  ...                 NaN   \n",
      "\n",
      "   Searches: Mar 2024  Searches: Apr 2024  Searches: May 2024  \\\n",
      "0                 NaN                 NaN                 NaN   \n",
      "1                 NaN                 NaN                 NaN   \n",
      "2                 NaN                 NaN                 NaN   \n",
      "3                 NaN                 NaN                 NaN   \n",
      "4                 NaN                 NaN                 NaN   \n",
      "\n",
      "   Searches: Jun 2024  Searches: Jul 2024  Searches: Aug 2024  \\\n",
      "0                 NaN                 NaN                 NaN   \n",
      "1                 NaN                 NaN                 NaN   \n",
      "2                 NaN                 NaN                 NaN   \n",
      "3                 NaN                 NaN                 NaN   \n",
      "4                 NaN                 NaN                 NaN   \n",
      "\n",
      "   Searches: Sep 2024  Searches: Oct 2024  Searches: Nov 2024  \n",
      "0                 NaN                 NaN                 NaN  \n",
      "1                 NaN                 NaN                 NaN  \n",
      "2                 NaN                 NaN                 NaN  \n",
      "3                 NaN                 NaN                 NaN  \n",
      "4                 NaN                 NaN                 NaN  \n",
      "\n",
      "[5 rows x 26 columns]\n"
     ]
    }
   ],
   "source": [
    "print(df.head())"
   ]
  },
  {
   "cell_type": "code",
   "execution_count": 49,
   "metadata": {},
   "outputs": [
    {
     "name": "stdout",
     "output_type": "stream",
     "text": [
      "       Avg. monthly searches  Competition (indexed value)  \\\n",
      "count             741.000000                   612.000000   \n",
      "mean              329.824561                    94.109477   \n",
      "std              3197.235055                    17.614794   \n",
      "min                 0.000000                     0.000000   \n",
      "25%                50.000000                   100.000000   \n",
      "50%                50.000000                   100.000000   \n",
      "75%                50.000000                   100.000000   \n",
      "max             50000.000000                   100.000000   \n",
      "\n",
      "       Top of page bid (low range)  Top of page bid (high range)  \\\n",
      "count                   280.000000                    280.000000   \n",
      "mean                   1200.028571                   4651.071429   \n",
      "std                     465.673012                   3259.382564   \n",
      "min                      68.000000                   1273.000000   \n",
      "25%                    1018.000000                   3055.000000   \n",
      "50%                    1018.000000                   4095.000000   \n",
      "75%                    1273.000000                   5289.750000   \n",
      "max                    5957.000000                  43055.000000   \n",
      "\n",
      "       Ad impression share  Organic impression share  \\\n",
      "count                  0.0                       0.0   \n",
      "mean                   NaN                       NaN   \n",
      "std                    NaN                       NaN   \n",
      "min                    NaN                       NaN   \n",
      "25%                    NaN                       NaN   \n",
      "50%                    NaN                       NaN   \n",
      "75%                    NaN                       NaN   \n",
      "max                    NaN                       NaN   \n",
      "\n",
      "       Organic average position  In account?  In plan?  Searches: Dec 2023  \\\n",
      "count                       0.0          0.0       0.0                 0.0   \n",
      "mean                        NaN          NaN       NaN                 NaN   \n",
      "std                         NaN          NaN       NaN                 NaN   \n",
      "min                         NaN          NaN       NaN                 NaN   \n",
      "25%                         NaN          NaN       NaN                 NaN   \n",
      "50%                         NaN          NaN       NaN                 NaN   \n",
      "75%                         NaN          NaN       NaN                 NaN   \n",
      "max                         NaN          NaN       NaN                 NaN   \n",
      "\n",
      "       ...  Searches: Feb 2024  Searches: Mar 2024  Searches: Apr 2024  \\\n",
      "count  ...                 0.0                 0.0                 0.0   \n",
      "mean   ...                 NaN                 NaN                 NaN   \n",
      "std    ...                 NaN                 NaN                 NaN   \n",
      "min    ...                 NaN                 NaN                 NaN   \n",
      "25%    ...                 NaN                 NaN                 NaN   \n",
      "50%    ...                 NaN                 NaN                 NaN   \n",
      "75%    ...                 NaN                 NaN                 NaN   \n",
      "max    ...                 NaN                 NaN                 NaN   \n",
      "\n",
      "       Searches: May 2024  Searches: Jun 2024  Searches: Jul 2024  \\\n",
      "count                 0.0                 0.0                 0.0   \n",
      "mean                  NaN                 NaN                 NaN   \n",
      "std                   NaN                 NaN                 NaN   \n",
      "min                   NaN                 NaN                 NaN   \n",
      "25%                   NaN                 NaN                 NaN   \n",
      "50%                   NaN                 NaN                 NaN   \n",
      "75%                   NaN                 NaN                 NaN   \n",
      "max                   NaN                 NaN                 NaN   \n",
      "\n",
      "       Searches: Aug 2024  Searches: Sep 2024  Searches: Oct 2024  \\\n",
      "count                 0.0                 0.0                 0.0   \n",
      "mean                  NaN                 NaN                 NaN   \n",
      "std                   NaN                 NaN                 NaN   \n",
      "min                   NaN                 NaN                 NaN   \n",
      "25%                   NaN                 NaN                 NaN   \n",
      "50%                   NaN                 NaN                 NaN   \n",
      "75%                   NaN                 NaN                 NaN   \n",
      "max                   NaN                 NaN                 NaN   \n",
      "\n",
      "       Searches: Nov 2024  \n",
      "count                 0.0  \n",
      "mean                  NaN  \n",
      "std                   NaN  \n",
      "min                   NaN  \n",
      "25%                   NaN  \n",
      "50%                   NaN  \n",
      "75%                   NaN  \n",
      "max                   NaN  \n",
      "\n",
      "[8 rows x 21 columns]\n"
     ]
    }
   ],
   "source": [
    "print(df.describe())"
   ]
  },
  {
   "cell_type": "code",
   "execution_count": 50,
   "metadata": {},
   "outputs": [
    {
     "name": "stdout",
     "output_type": "stream",
     "text": [
      "<class 'pandas.core.frame.DataFrame'>\n",
      "RangeIndex: 741 entries, 0 to 740\n",
      "Data columns (total 26 columns):\n",
      " #   Column                             Non-Null Count  Dtype  \n",
      "---  ------                             --------------  -----  \n",
      " 0   Keyword                            741 non-null    object \n",
      " 1   Currency                           741 non-null    object \n",
      " 2   Avg. monthly searches              741 non-null    int64  \n",
      " 3   Thay đổi trong ba tháng            741 non-null    object \n",
      " 4   Thay đổi so với cùng kỳ năm trước  741 non-null    object \n",
      " 5   Competition                        741 non-null    object \n",
      " 6   Competition (indexed value)        612 non-null    float64\n",
      " 7   Top of page bid (low range)        280 non-null    float64\n",
      " 8   Top of page bid (high range)       280 non-null    float64\n",
      " 9   Ad impression share                0 non-null      float64\n",
      " 10  Organic impression share           0 non-null      float64\n",
      " 11  Organic average position           0 non-null      float64\n",
      " 12  In account?                        0 non-null      float64\n",
      " 13  In plan?                           0 non-null      float64\n",
      " 14  Searches: Dec 2023                 0 non-null      float64\n",
      " 15  Searches: Jan 2024                 0 non-null      float64\n",
      " 16  Searches: Feb 2024                 0 non-null      float64\n",
      " 17  Searches: Mar 2024                 0 non-null      float64\n",
      " 18  Searches: Apr 2024                 0 non-null      float64\n",
      " 19  Searches: May 2024                 0 non-null      float64\n",
      " 20  Searches: Jun 2024                 0 non-null      float64\n",
      " 21  Searches: Jul 2024                 0 non-null      float64\n",
      " 22  Searches: Aug 2024                 0 non-null      float64\n",
      " 23  Searches: Sep 2024                 0 non-null      float64\n",
      " 24  Searches: Oct 2024                 0 non-null      float64\n",
      " 25  Searches: Nov 2024                 0 non-null      float64\n",
      "dtypes: float64(20), int64(1), object(5)\n",
      "memory usage: 150.6+ KB\n",
      "None\n"
     ]
    }
   ],
   "source": [
    "print(df.info())\n"
   ]
  },
  {
   "cell_type": "code",
   "execution_count": 51,
   "metadata": {},
   "outputs": [
    {
     "name": "stdout",
     "output_type": "stream",
     "text": [
      "+-------+-----------------------------------+\n",
      "| Index |            Column Name            |\n",
      "+-------+-----------------------------------+\n",
      "|   1   |              Keyword              |\n",
      "|   2   |             Currency              |\n",
      "|   3   |       Avg. monthly searches       |\n",
      "|   4   |      Thay đổi trong ba tháng      |\n",
      "|   5   | Thay đổi so với cùng kỳ năm trước |\n",
      "|   6   |            Competition            |\n",
      "|   7   |    Competition (indexed value)    |\n",
      "|   8   |    Top of page bid (low range)    |\n",
      "|   9   |   Top of page bid (high range)    |\n",
      "|  10   |        Ad impression share        |\n",
      "|  11   |     Organic impression share      |\n",
      "|  12   |     Organic average position      |\n",
      "|  13   |            In account?            |\n",
      "|  14   |             In plan?              |\n",
      "|  15   |        Searches: Dec 2023         |\n",
      "|  16   |        Searches: Jan 2024         |\n",
      "|  17   |        Searches: Feb 2024         |\n",
      "|  18   |        Searches: Mar 2024         |\n",
      "|  19   |        Searches: Apr 2024         |\n",
      "|  20   |        Searches: May 2024         |\n",
      "|  21   |        Searches: Jun 2024         |\n",
      "|  22   |        Searches: Jul 2024         |\n",
      "|  23   |        Searches: Aug 2024         |\n",
      "|  24   |        Searches: Sep 2024         |\n",
      "|  25   |        Searches: Oct 2024         |\n",
      "|  26   |        Searches: Nov 2024         |\n",
      "+-------+-----------------------------------+\n"
     ]
    }
   ],
   "source": [
    "columns = df.columns\n",
    "table = [[i, column] for i, column in enumerate(columns, 1)]\n",
    "print(tabulate(table, headers=[\"Index\", \"Column Name\"], tablefmt=\"pretty\"))"
   ]
  },
  {
   "cell_type": "code",
   "execution_count": 52,
   "metadata": {},
   "outputs": [
    {
     "name": "stdout",
     "output_type": "stream",
     "text": [
      "                         Keyword Currency  Avg. monthly searches  \\\n",
      "0                    túi xách nữ      VND                  50000   \n",
      "1          túi xách nữ hàng hiệu      VND                   5000   \n",
      "2                túi xách nữ đẹp      VND                   5000   \n",
      "3  túi xách nữ hàng hiệu cao cấp      VND                    500   \n",
      "4            túi xách nữ cao cấp      VND                   5000   \n",
      "\n",
      "  Thay đổi trong ba tháng  \n",
      "0                      0%  \n",
      "1                      0%  \n",
      "2                      0%  \n",
      "3                      0%  \n",
      "4                    -90%  \n"
     ]
    }
   ],
   "source": [
    "seed_keywords = [\"Keyword\", \"Currency\", \"Avg. monthly searches\", \"Thay đổi trong ba tháng\"]\n",
    "filtered_df = df[seed_keywords]\n",
    "print(filtered_df.head())\n"
   ]
  },
  {
   "cell_type": "code",
   "execution_count": 53,
   "metadata": {},
   "outputs": [],
   "source": [
    "selected_columns = [\"Keyword\", \"Avg. monthly searches\", \"Competition (indexed value)\"]\n",
    "new_df = df[selected_columns]"
   ]
  },
  {
   "cell_type": "code",
   "execution_count": 54,
   "metadata": {},
   "outputs": [
    {
     "name": "stdout",
     "output_type": "stream",
     "text": [
      "                           Keyword  Avg. monthly searches  \\\n",
      "0                      túi xách nữ                  50000   \n",
      "1            túi xách nữ hàng hiệu                   5000   \n",
      "2                  túi xách nữ đẹp                   5000   \n",
      "3    túi xách nữ hàng hiệu cao cấp                    500   \n",
      "4              túi xách nữ cao cấp                   5000   \n",
      "..                             ...                    ...   \n",
      "736                      ví vanoca                     50   \n",
      "737                 ví xách tay nữ                     50   \n",
      "738                 ví đeo chéo nữ                     50   \n",
      "739                      ví đeo nữ                     50   \n",
      "740                        xách nữ                     50   \n",
      "\n",
      "     Competition (indexed value)  \n",
      "0                          100.0  \n",
      "1                           60.0  \n",
      "2                          100.0  \n",
      "3                          100.0  \n",
      "4                          100.0  \n",
      "..                           ...  \n",
      "736                        100.0  \n",
      "737                         98.0  \n",
      "738                        100.0  \n",
      "739                        100.0  \n",
      "740                        100.0  \n",
      "\n",
      "[741 rows x 3 columns]\n"
     ]
    }
   ],
   "source": [
    "print(new_df)\n",
    "new_df.to_csv('D:/projects/marketing/new_df.csv', index=True)"
   ]
  },
  {
   "cell_type": "code",
   "execution_count": null,
   "metadata": {},
   "outputs": [],
   "source": []
  }
 ],
 "metadata": {
  "kernelspec": {
   "display_name": "Python 3",
   "language": "python",
   "name": "python3"
  },
  "language_info": {
   "codemirror_mode": {
    "name": "ipython",
    "version": 3
   },
   "file_extension": ".py",
   "mimetype": "text/x-python",
   "name": "python",
   "nbconvert_exporter": "python",
   "pygments_lexer": "ipython3",
   "version": "3.12.5"
  }
 },
 "nbformat": 4,
 "nbformat_minor": 2
}
